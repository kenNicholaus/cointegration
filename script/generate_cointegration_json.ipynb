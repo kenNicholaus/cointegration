{
 "cells": [
  {
   "cell_type": "code",
   "execution_count": null,
   "metadata": {
    "colab": {
     "base_uri": "https://localhost:8080/",
     "height": 71
    },
    "colab_type": "code",
    "executionInfo": {
     "elapsed": 588,
     "status": "ok",
     "timestamp": 1588981949770,
     "user": {
      "displayName": "Kinree Hou",
      "photoUrl": "https://lh3.googleusercontent.com/a-/AOh14GiL9fiv7t3Nbd4AjSojrmGJWlMCogdH7A8p2i83=s64",
      "userId": "06325361864567899568"
     },
     "user_tz": 420
    },
    "id": "Zo1NNCNaFHtz",
    "outputId": "57b19bd9-6af4-4b65-c867-88c67874567e"
   },
   "outputs": [],
   "source": [
    "import pandas as pd\n",
    "import numpy as np\n",
    "from statsmodels.tsa.stattools import coint\n",
    "from tqdm import tqdm\n",
    "import pickle"
   ]
  },
  {
   "cell_type": "code",
   "execution_count": null,
   "metadata": {},
   "outputs": [],
   "source": [
    "read_file = '../../prices/data/consolidated/train_adjclose.csv'\n",
    "df = pd.read_csv(read_file, index_col = 0, parse_dates = True)\n",
    "symbols = df.columns.tolist()\n",
    "print('length of symbols' , len(symbols))"
   ]
  },
  {
   "cell_type": "code",
   "execution_count": null,
   "metadata": {
    "scrolled": false
   },
   "outputs": [],
   "source": [
    "cointegration = {}\n",
    "tickers=df.columns.tolist()\n",
    "for symbol in symbols:\n",
    "    temp = []\n",
    "    df1=df.dropna(subset=[symbol])\n",
    "    df1.fillna(0,inplace=True)\n",
    "    for ticker in tickers[:]:\n",
    "        if symbol != ticker:\n",
    "            coint_t, p_value, crit_value = coint(df1[symbol].values, df1[ticker].values,trend='ct')\n",
    "            if p_value < 0.05:\n",
    "                temp.append(ticker)\n",
    "    cointegration[symbol] = temp\n",
    "    print(symbol, len(cointegration[symbol]))\n",
    "with open(\"../cointegration_json.pickle\",\"wb\") as f:\n",
    "        pickle.dump(cointegration,f)   "
   ]
  },
  {
   "cell_type": "code",
   "execution_count": null,
   "metadata": {
    "scrolled": false
   },
   "outputs": [],
   "source": [
    "with open(\"../cointegration_json.pickle\",'rb') as f:\n",
    "            cointegration=pickle.load(f)\n",
    "print(cointegration)"
   ]
  },
  {
   "cell_type": "code",
   "execution_count": null,
   "metadata": {},
   "outputs": [],
   "source": []
  }
 ],
 "metadata": {
  "colab": {
   "authorship_tag": "ABX9TyN5i5cie8Uveca1EIqIiyxu",
   "collapsed_sections": [],
   "name": "cointegration.ipynb",
   "provenance": []
  },
  "kernelspec": {
   "display_name": "Python 3 (ipykernel)",
   "language": "python",
   "name": "python3"
  },
  "language_info": {
   "codemirror_mode": {
    "name": "ipython",
    "version": 3
   },
   "file_extension": ".py",
   "mimetype": "text/x-python",
   "name": "python",
   "nbconvert_exporter": "python",
   "pygments_lexer": "ipython3",
   "version": "3.9.7"
  }
 },
 "nbformat": 4,
 "nbformat_minor": 1
}
