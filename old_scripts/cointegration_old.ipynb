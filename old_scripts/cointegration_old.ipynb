{
 "cells": [
  {
   "cell_type": "code",
   "execution_count": 0,
   "metadata": {
    "colab": {
     "base_uri": "https://localhost:8080/",
     "height": 71
    },
    "colab_type": "code",
    "executionInfo": {
     "elapsed": 588,
     "status": "ok",
     "timestamp": 1588981949770,
     "user": {
      "displayName": "Kinree Hou",
      "photoUrl": "https://lh3.googleusercontent.com/a-/AOh14GiL9fiv7t3Nbd4AjSojrmGJWlMCogdH7A8p2i83=s64",
      "userId": "06325361864567899568"
     },
     "user_tz": 420
    },
    "id": "Zo1NNCNaFHtz",
    "outputId": "57b19bd9-6af4-4b65-c867-88c67874567e"
   },
   "outputs": [
    {
     "name": "stderr",
     "output_type": "stream",
     "text": [
      "/usr/local/lib/python3.6/dist-packages/statsmodels/tools/_testing.py:19: FutureWarning: pandas.util.testing is deprecated. Use the functions in the public API at pandas.testing instead.\n",
      "  import pandas.util.testing as tm\n"
     ]
    }
   ],
   "source": [
    "import pandas as pd\n",
    "import numpy as np\n",
    "from statsmodels.tsa.stattools import coint\n",
    "from tqdm import tqdm"
   ]
  },
  {
   "cell_type": "code",
   "execution_count": 0,
   "metadata": {
    "colab": {
     "base_uri": "https://localhost:8080/",
     "height": 34
    },
    "colab_type": "code",
    "executionInfo": {
     "elapsed": 575,
     "status": "ok",
     "timestamp": 1588981949772,
     "user": {
      "displayName": "Kinree Hou",
      "photoUrl": "https://lh3.googleusercontent.com/a-/AOh14GiL9fiv7t3Nbd4AjSojrmGJWlMCogdH7A8p2i83=s64",
      "userId": "06325361864567899568"
     },
     "user_tz": 420
    },
    "id": "FC02-jVAFd0E",
    "outputId": "4a432e14-6451-40ed-b35a-e95203e0ca59"
   },
   "outputs": [
    {
     "name": "stdout",
     "output_type": "stream",
     "text": [
      "Drive already mounted at /content/drive/; to attempt to forcibly remount, call drive.mount(\"/content/drive/\", force_remount=True).\n"
     ]
    }
   ],
   "source": [
    "from google.colab import drive\n",
    "drive.mount('/content/drive/')"
   ]
  },
  {
   "cell_type": "code",
   "execution_count": 0,
   "metadata": {
    "colab": {},
    "colab_type": "code",
    "id": "mkqbtiU4FewZ"
   },
   "outputs": [],
   "source": [
    "df = pd.read_csv('/content/drive/My Drive/aiTradeSignals/^GSPC_7_days_0_return.csv', index_col = 0, parse_dates = True)\n",
    "df = df.dropna()\n",
    "stocks = df.iloc[:,0:1633]\n",
    "stock_names = list(stocks.columns)"
   ]
  },
  {
   "cell_type": "code",
   "execution_count": 0,
   "metadata": {
    "colab": {},
    "colab_type": "code",
    "id": "QkCvEv3PXjJU"
   },
   "outputs": [],
   "source": [
    "def getCoint(stock_name, ticker):\n",
    "  y_stock = stocks[stock_name]\n",
    "  y_ticker = df[ticker]\n",
    "  return coint(y_stock, y_ticker)\n"
   ]
  },
  {
   "cell_type": "code",
   "execution_count": 0,
   "metadata": {
    "colab": {
     "base_uri": "https://localhost:8080/",
     "height": 34
    },
    "colab_type": "code",
    "executionInfo": {
     "elapsed": 6347,
     "status": "ok",
     "timestamp": 1588981955591,
     "user": {
      "displayName": "Kinree Hou",
      "photoUrl": "https://lh3.googleusercontent.com/a-/AOh14GiL9fiv7t3Nbd4AjSojrmGJWlMCogdH7A8p2i83=s64",
      "userId": "06325361864567899568"
     },
     "user_tz": 420
    },
    "id": "yLLY79k3bvFN",
    "outputId": "c6786572-eae2-4e23-ebdf-c785f2ba0d63"
   },
   "outputs": [
    {
     "name": "stdout",
     "output_type": "stream",
     "text": [
      "(-1.8297849298857842, 0.6151448954789535, array([-3.89730762, -3.33661397, -3.04478593]))\n"
     ]
    }
   ],
   "source": [
    "print(getCoint('AAL', '^GSPC_7d'))"
   ]
  },
  {
   "cell_type": "code",
   "execution_count": 0,
   "metadata": {
    "colab": {
     "base_uri": "https://localhost:8080/",
     "height": 564
    },
    "colab_type": "code",
    "executionInfo": {
     "elapsed": 2327267,
     "status": "ok",
     "timestamp": 1588987803654,
     "user": {
      "displayName": "Kinree Hou",
      "photoUrl": "https://lh3.googleusercontent.com/a-/AOh14GiL9fiv7t3Nbd4AjSojrmGJWlMCogdH7A8p2i83=s64",
      "userId": "06325361864567899568"
     },
     "user_tz": 420
    },
    "id": "xncvqT9kc8RM",
    "outputId": "7131f1ef-e340-4afa-9abd-8f72821fc233"
   },
   "outputs": [
    {
     "name": "stderr",
     "output_type": "stream",
     "text": [
      " 34%|███▍      | 553/1633 [13:31<24:18,  1.35s/it]/usr/local/lib/python3.6/dist-packages/statsmodels/regression/linear_model.py:867: RuntimeWarning: divide by zero encountered in log\n",
      "  llf = -nobs2*np.log(2*np.pi) - nobs2*np.log(ssr / nobs) - nobs2\n",
      "/usr/local/lib/python3.6/dist-packages/statsmodels/base/model.py:1294: RuntimeWarning: invalid value encountered in true_divide\n",
      "  return self.params / self.bse\n",
      " 51%|█████     | 825/1633 [19:54<19:00,  1.41s/it]/usr/local/lib/python3.6/dist-packages/statsmodels/regression/linear_model.py:1636: RuntimeWarning: invalid value encountered in double_scalars\n",
      "  return 1 - self.ssr/self.centered_tss\n",
      "/usr/local/lib/python3.6/dist-packages/statsmodels/tsa/stattools.py:1432: CollinearityWarning: y0 and y1 are (almost) perfectly colinear.Cointegration test is not reliable in this case.\n",
      "  CollinearityWarning)\n",
      "/usr/local/lib/python3.6/dist-packages/statsmodels/tsa/stattools.py:1432: CollinearityWarning: y0 and y1 are (almost) perfectly colinear.Cointegration test is not reliable in this case.\n",
      "  CollinearityWarning)\n",
      " 91%|█████████ | 1482/1633 [35:31<03:25,  1.36s/it]/usr/local/lib/python3.6/dist-packages/statsmodels/tsa/stattools.py:1432: CollinearityWarning: y0 and y1 are (almost) perfectly colinear.Cointegration test is not reliable in this case.\n",
      "  CollinearityWarning)\n",
      "/usr/local/lib/python3.6/dist-packages/statsmodels/tsa/stattools.py:1432: CollinearityWarning: y0 and y1 are (almost) perfectly colinear.Cointegration test is not reliable in this case.\n",
      "  CollinearityWarning)\n",
      " 91%|█████████ | 1487/1633 [35:35<02:58,  1.23s/it]/usr/local/lib/python3.6/dist-packages/statsmodels/tsa/stattools.py:1432: CollinearityWarning: y0 and y1 are (almost) perfectly colinear.Cointegration test is not reliable in this case.\n",
      "  CollinearityWarning)\n",
      " 91%|█████████ | 1489/1633 [35:36<02:33,  1.06s/it]/usr/local/lib/python3.6/dist-packages/statsmodels/tsa/stattools.py:1432: CollinearityWarning: y0 and y1 are (almost) perfectly colinear.Cointegration test is not reliable in this case.\n",
      "  CollinearityWarning)\n",
      " 91%|█████████▏| 1492/1633 [35:39<02:29,  1.06s/it]/usr/local/lib/python3.6/dist-packages/statsmodels/tsa/stattools.py:1432: CollinearityWarning: y0 and y1 are (almost) perfectly colinear.Cointegration test is not reliable in this case.\n",
      "  CollinearityWarning)\n",
      " 91%|█████████▏| 1494/1633 [35:40<02:12,  1.05it/s]/usr/local/lib/python3.6/dist-packages/statsmodels/tsa/stattools.py:1432: CollinearityWarning: y0 and y1 are (almost) perfectly colinear.Cointegration test is not reliable in this case.\n",
      "  CollinearityWarning)\n",
      " 93%|█████████▎| 1516/1633 [36:09<02:39,  1.36s/it]/usr/local/lib/python3.6/dist-packages/statsmodels/tsa/stattools.py:1432: CollinearityWarning: y0 and y1 are (almost) perfectly colinear.Cointegration test is not reliable in this case.\n",
      "  CollinearityWarning)\n",
      "/usr/local/lib/python3.6/dist-packages/statsmodels/tsa/stattools.py:1432: CollinearityWarning: y0 and y1 are (almost) perfectly colinear.Cointegration test is not reliable in this case.\n",
      "  CollinearityWarning)\n",
      " 93%|█████████▎| 1523/1633 [36:15<02:20,  1.27s/it]/usr/local/lib/python3.6/dist-packages/statsmodels/tsa/stattools.py:1432: CollinearityWarning: y0 and y1 are (almost) perfectly colinear.Cointegration test is not reliable in this case.\n",
      "  CollinearityWarning)\n",
      " 99%|█████████▉| 1621/1633 [38:29<00:16,  1.38s/it]/usr/local/lib/python3.6/dist-packages/statsmodels/regression/linear_model.py:1636: RuntimeWarning: divide by zero encountered in double_scalars\n",
      "  return 1 - self.ssr/self.centered_tss\n",
      "100%|██████████| 1633/1633 [38:46<00:00,  1.42s/it]\n"
     ]
    }
   ],
   "source": [
    "data = []\n",
    "ticker = '^GSPC_7d'\n",
    "for i in tqdm(range(len(stock_names))):\n",
    "#for i in tqdm(range(3)):\n",
    "  coint_t, p_value, crit_value = getCoint(stock_names[i], ticker)\n",
    "  data.append([stock_names[i], coint_t, p_value])\n",
    "\n",
    "res_df = pd.DataFrame(np.array(data), columns=['stock','coint_t','p_value'])\n",
    "res_df.to_csv ('/content/drive/My Drive/aiTradeSignals/cointegration_results.csv', index = False, header=True)"
   ]
  },
  {
   "cell_type": "code",
   "execution_count": 0,
   "metadata": {
    "colab": {
     "base_uri": "https://localhost:8080/",
     "height": 85
    },
    "colab_type": "code",
    "executionInfo": {
     "elapsed": 633,
     "status": "ok",
     "timestamp": 1588985310352,
     "user": {
      "displayName": "Kinree Hou",
      "photoUrl": "https://lh3.googleusercontent.com/a-/AOh14GiL9fiv7t3Nbd4AjSojrmGJWlMCogdH7A8p2i83=s64",
      "userId": "06325361864567899568"
     },
     "user_tz": 420
    },
    "id": "XuxUzCWh3pIn",
    "outputId": "1733d94c-f381-450c-84f0-99546394a365"
   },
   "outputs": [
    {
     "data": {
      "text/plain": [
       "<bound method NDFrame.head of   stock               coint_t             p_value\n",
       "0     A   0.29874350842156233  0.9908769001237218\n",
       "1   AAL   -1.8297849298857842  0.6151448954789535\n",
       "2   AAP  -0.01277337635326172  0.9855990991620232>"
      ]
     },
     "execution_count": 18,
     "metadata": {
      "tags": []
     },
     "output_type": "execute_result"
    }
   ],
   "source": [
    "res_df.head"
   ]
  }
 ],
 "metadata": {
  "colab": {
   "authorship_tag": "ABX9TyN5i5cie8Uveca1EIqIiyxu",
   "collapsed_sections": [],
   "name": "cointegration.ipynb",
   "provenance": []
  },
  "kernelspec": {
   "display_name": "Python 3",
   "language": "python",
   "name": "python3"
  },
  "language_info": {
   "codemirror_mode": {
    "name": "ipython",
    "version": 3
   },
   "file_extension": ".py",
   "mimetype": "text/x-python",
   "name": "python",
   "nbconvert_exporter": "python",
   "pygments_lexer": "ipython3",
   "version": "3.7.4"
  }
 },
 "nbformat": 4,
 "nbformat_minor": 1
}
